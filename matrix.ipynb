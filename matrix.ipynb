{
  "nbformat": 4,
  "nbformat_minor": 0,
  "metadata": {
    "colab": {
      "name": "matrix.ipynb",
      "version": "0.3.2",
      "provenance": []
    },
    "kernelspec": {
      "name": "python3",
      "display_name": "Python 3"
    }
  },
  "cells": [
    {
      "cell_type": "code",
      "metadata": {
        "id": "Nob0WUkvTuKr",
        "colab_type": "code",
        "colab": {}
      },
      "source": [
        "import pandas as pandas\n",
        "triplets_file = 'https://static.turi.com/datasets/millionsong/10000.txt'\n",
        "songs_metadata_file = 'https://static.turi.com/datasets/millionsong/song_data.csv'\n"
      ],
      "execution_count": 0,
      "outputs": []
    },
    {
      "cell_type": "code",
      "metadata": {
        "id": "8QgExRCcUG43",
        "colab_type": "code",
        "colab": {
          "base_uri": "https://localhost:8080/",
          "height": 71
        },
        "outputId": "b4a35f11-da81-4fe9-e6ba-dc59f0d3e4b5"
      },
      "source": [
        "song_df_1 = pandas.read_table(triplets_file,header=None)\n",
        "song_df_1.columns = ['user_id', 'song_id', 'listen_count']\n",
        "song_df_2 =  pandas.read_csv(songs_metadata_file)\n",
        "\n",
        "song_df = pandas.merge(song_df_1, song_df_2.drop_duplicates(['song_id']), on=\"song_id\", how=\"left\")"
      ],
      "execution_count": 4,
      "outputs": [
        {
          "output_type": "stream",
          "text": [
            "/usr/local/lib/python3.6/dist-packages/ipykernel_launcher.py:1: FutureWarning: read_table is deprecated, use read_csv instead, passing sep='\\t'.\n",
            "  \"\"\"Entry point for launching an IPython kernel.\n"
          ],
          "name": "stderr"
        }
      ]
    },
    {
      "cell_type": "code",
      "metadata": {
        "id": "38zljgSKUPNP",
        "colab_type": "code",
        "colab": {
          "base_uri": "https://localhost:8080/",
          "height": 34
        },
        "outputId": "11e983a1-911a-46d6-aec2-6fd2cdf30ec9"
      },
      "source": [
        "users = song_df['user_id'].unique()\n",
        "len(users) "
      ],
      "execution_count": 5,
      "outputs": [
        {
          "output_type": "execute_result",
          "data": {
            "text/plain": [
              "76353"
            ]
          },
          "metadata": {
            "tags": []
          },
          "execution_count": 5
        }
      ]
    },
    {
      "cell_type": "code",
      "metadata": {
        "id": "VmLNh9C5UR-C",
        "colab_type": "code",
        "colab": {
          "base_uri": "https://localhost:8080/",
          "height": 34
        },
        "outputId": "2d766991-0d75-4a9c-d0f7-96951a4c7ca3"
      },
      "source": [
        "songs = song_df['song_id'].unique()\n",
        "len(songs) "
      ],
      "execution_count": 6,
      "outputs": [
        {
          "output_type": "execute_result",
          "data": {
            "text/plain": [
              "10000"
            ]
          },
          "metadata": {
            "tags": []
          },
          "execution_count": 6
        }
      ]
    },
    {
      "cell_type": "code",
      "metadata": {
        "id": "w8Sf4mUJUXqC",
        "colab_type": "code",
        "colab": {}
      },
      "source": [
        "from scipy.sparse import csc_matrix\n",
        "import math as mt\n",
        "import csv\n",
        "import numpy as np\n",
        "from sparsesvd import sparsesvd #used for matrix factorization\n",
        "\n",
        "from scipy.sparse import csc_matrix #used for sparse matrix\n",
        "from scipy.sparse.linalg import * #used for matrix multiplication\n",
        "\n",
        "import numpy, scipy.sparse\n",
        "from scipy.sparse.linalg import svds, eigs\n",
        "#constants defining the dimensions of our User Rating Matrix (URM)\n",
        "MAX_PID = 4\n",
        "MAX_UID = 5\n",
        "\n",
        "#Compute SVD of the user ratings matrix\n",
        "def computeSVD(urm, K):\n",
        "    U, s, Vt = sparsesvd(urm, K)\n",
        "\n",
        "    dim = (len(s), len(s))\n",
        "    S = np.zeros(dim, dtype=np.float32)\n",
        "    for i in range(0, len(s)):\n",
        "        S[i,i] = mt.sqrt(s[i])\n",
        "\n",
        "    U = csc_matrix(np.transpose(U), dtype=np.float32)\n",
        "    S = csc_matrix(S, dtype=np.float32)\n",
        "    Vt = csc_matrix(Vt, dtype=np.float32)\n",
        "    \n",
        "    return U, S, Vt\n",
        "\n",
        "#Compute estimated rating for the test user\n",
        "def computeEstimatedRatings(urm, U, S, Vt, uTest, K, test):\n",
        "    rightTerm = S*Vt \n",
        "\n",
        "    estimatedRatings = np.zeros(shape=(MAX_UID, MAX_PID), dtype=np.float16)\n",
        "    for userTest in uTest:\n",
        "        prod = U[userTest, :]*rightTerm\n",
        "        #we convert the vector to dense format in order to get the indices \n",
        "        #of the movies with the best estimated ratings \n",
        "        estimatedRatings[userTest, :] = prod.todense()\n",
        "        recom = (-estimatedRatings[userTest, :]).argsort()[:250]\n",
        "    return recom"
      ],
      "execution_count": 0,
      "outputs": []
    },
    {
      "cell_type": "code",
      "metadata": {
        "id": "d_pqNvi_Ucv9",
        "colab_type": "code",
        "colab": {
          "base_uri": "https://localhost:8080/",
          "height": 136
        },
        "outputId": "54ac278b-e4d2-45f0-dc3f-484e5a5e0125"
      },
      "source": [
        "!pip install sparsesvd\n",
        "\n",
        "\n",
        "#Used in SVD calculation (number of latent factors)\n",
        "K=2\n",
        "\n",
        "#Initialize a sample user rating matrix\n",
        "urm = np.array([[3, 1, 2, 3],[4, 3, 4, 3],[3, 2, 1, 5], [1, 6, 5, 2], [5, 0,0 , 0]])\n",
        "urm = csc_matrix(urm, dtype=np.float32)\n",
        "\n",
        "#Compute SVD of the input user ratings matrix\n",
        "U, S, Vt = computeSVD(urm, K)\n",
        "\n",
        "#Test user set as user_id 4 with ratings [0, 0, 5, 0]\n",
        "uTest = [4]\n",
        "print(\"User id for whom recommendations are needed: %d\" % uTest[0])\n",
        "\n",
        "#Get estimated rating for test user\n",
        "print(\"Predictied ratings:\")\n",
        "uTest_recommended_items = computeEstimatedRatings(urm, U, S, Vt, uTest, K, True)\n",
        "print(uTest_recommended_items)"
      ],
      "execution_count": 10,
      "outputs": [
        {
          "output_type": "stream",
          "text": [
            "Requirement already satisfied: sparsesvd in /usr/local/lib/python3.6/dist-packages (0.2.2)\n",
            "Requirement already satisfied: cython in /usr/local/lib/python3.6/dist-packages (from sparsesvd) (0.29.7)\n",
            "Requirement already satisfied: scipy>=0.6.0 in /usr/local/lib/python3.6/dist-packages (from sparsesvd) (1.2.1)\n",
            "Requirement already satisfied: numpy>=1.8.2 in /usr/local/lib/python3.6/dist-packages (from scipy>=0.6.0->sparsesvd) (1.16.3)\n",
            "User id for whom recommendations are needed: 4\n",
            "Predictied ratings:\n",
            "[0 3 2 1]\n"
          ],
          "name": "stdout"
        }
      ]
    }
  ]
}